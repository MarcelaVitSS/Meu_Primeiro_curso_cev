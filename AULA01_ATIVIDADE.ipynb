{
  "nbformat": 4,
  "nbformat_minor": 0,
  "metadata": {
    "colab": {
      "provenance": [],
      "authorship_tag": "ABX9TyPRQNrpC6IxyKylVGDSZtU4",
      "include_colab_link": true
    },
    "kernelspec": {
      "name": "python3",
      "display_name": "Python 3"
    },
    "language_info": {
      "name": "python"
    }
  },
  "cells": [
    {
      "cell_type": "markdown",
      "metadata": {
        "id": "view-in-github",
        "colab_type": "text"
      },
      "source": [
        "<a href=\"https://colab.research.google.com/github/MarcelaVitSS/Meu_Primeiro_curso_cev/blob/main/AULA01_ATIVIDADE.ipynb\" target=\"_parent\"><img src=\"https://colab.research.google.com/assets/colab-badge.svg\" alt=\"Open In Colab\"/></a>"
      ]
    },
    {
      "cell_type": "markdown",
      "source": [
        "**Marcela Vitória da Silva Souza 2OL**"
      ],
      "metadata": {
        "id": "3YNx47JsvAM5"
      }
    },
    {
      "cell_type": "markdown",
      "source": [
        "**01 QUESTÃO -** Variável é um nome que será associado a um determinado valor, e atribuição é um comando aplicado para \"chamar\" um código\n",
        "\n",
        "**02 QUESTÃO -** Os tipos de variáveis e suas diferenças são: inteiro(int) para valores numéricos inteiros, ou seja, sem decimáis; float para valores numéricos com decimáis, ou seja, valores não inteiros; string(str) para frases, ou seja, sem numeráis/algaritmos, pode ser usado para converter um valor numérico(com ou sem decimais) em frases e por ultimo o boolean(bool) que é utilizado para para atribuir uma condição a um valor ou frases, condições verdadeiras ou falsas.\n",
        "\n",
        "**03 QUESTÃO -** Se imprime \"Olá mundo\" com o seguinte código: print(\"Olá Mundo\")\n",
        "\n",
        "**04 QUESTÃO -** Com a função \"input()\"\n"
      ],
      "metadata": {
        "id": "PVaZ5AgWqnRn"
      }
    },
    {
      "cell_type": "code",
      "source": [
        "Valor_01= float(input(\"Digite o valor 01: \"))\n",
        "Valor_02= float(input(\"Digite o valor 02: \"))\n",
        "operação= (input(\"Digite a operação que você que:\"))\n",
        "if operação == \"+\" or operação == \"adição\" or operação == \"soma\" or operação == \"mais\":\n",
        "  print(Valor_01 + Valor_02)\n",
        "\n",
        "if operação == \"-\" or operação == \"subtração\" or operação == \"menos\":\n",
        "  print(Valor_01 - Valor_02)\n",
        "\n",
        "if operação == \"*\" or operação == \"multiplicação\" or operação == \"x\" or operação == \"vezes\":\n",
        "  print(Valor_01 * Valor_02)\n",
        "\n",
        "if operação == \"/\" or operação == \"divisão\" or operação == \"÷\" or operação == \"fração\":\n",
        "  print(Valor_01 / Valor_02)"
      ],
      "metadata": {
        "id": "wh7hzwBru_Kp",
        "colab": {
          "base_uri": "https://localhost:8080/"
        },
        "outputId": "39f0febb-3aa9-4417-ddb6-f4b960ac710a"
      },
      "execution_count": null,
      "outputs": [
        {
          "output_type": "stream",
          "name": "stdout",
          "text": [
            "Digite o valor 01: 4\n",
            "Digite o valor 02: 2\n",
            "Digite a operação que você que:÷\n",
            "2.0\n"
          ]
        }
      ]
    },
    {
      "cell_type": "code",
      "source": [
        "ultimo_dígito = int(input(\"Digite o último dígito da placa do seu carro: \"))\n",
        "\n",
        "if ultimo_dígito == 1 or ultimo_dígito == 2 :\n",
        "  print(\"Você só pode trafegar nas segundas-feiras. \")\n",
        "\n",
        "if ultimo_dígito == 3 or ultimo_dígito == 4 :\n",
        "  print(\"Você só pode trafegar nas terças-feiras.\")\n",
        "\n",
        "if ultimo_dígito == 5 or ultimo_dígito == 6 :\n",
        "  print(\"Você só pode trafegar nas quartas-feiras.\")\n",
        "\n",
        "if ultimo_dígito == 7 or ultimo_dígito == 8 :\n",
        "  print(\"Você só pode trafegar nas quintas-feiras.\")\n",
        "\n",
        "if ultimo_dígito == 9 or ultimo_dígito == 0 :\n",
        "  print(\"Você só pode trafegar nas sextas-feiras.\")"
      ],
      "metadata": {
        "colab": {
          "base_uri": "https://localhost:8080/"
        },
        "id": "hAdFzDzauUM1",
        "outputId": "fad85fc4-cdc8-4b26-ecb4-116228373654"
      },
      "execution_count": null,
      "outputs": [
        {
          "output_type": "stream",
          "name": "stdout",
          "text": [
            "Digite o último dígito da placa do seu carro. 8\n",
            "Você só pode trafegar nas quinta-feiras.\n"
          ]
        }
      ]
    }
  ]
}